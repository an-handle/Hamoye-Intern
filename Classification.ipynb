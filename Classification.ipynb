{
 "cells": [
  {
   "cell_type": "code",
   "execution_count": 1,
   "metadata": {},
   "outputs": [
    {
     "name": "stderr",
     "output_type": "stream",
     "text": [
      "C:\\Users\\Elite\\anaconda3\\lib\\site-packages\\IPython\\core\\interactiveshell.py:3146: DtypeWarning: Columns (6) have mixed types.Specify dtype option on import or set low_memory=False.\n",
      "  has_raised = await self.run_ast_nodes(code_ast.body, cell_name,\n"
     ]
    }
   ],
   "source": [
    "import pandas as pd\n",
    "df = pd.read_csv('NFA 2019 public_data.csv')"
   ]
  },
  {
   "cell_type": "code",
   "execution_count": 2,
   "metadata": {},
   "outputs": [
    {
     "data": {
      "text/plain": [
       "3A    51481\n",
       "2A    10576\n",
       "2B    10096\n",
       "1B       16\n",
       "1A       16\n",
       "Name: QScore, dtype: int64"
      ]
     },
     "execution_count": 2,
     "metadata": {},
     "output_type": "execute_result"
    }
   ],
   "source": [
    "df.QScore.value_counts()"
   ]
  },
  {
   "cell_type": "code",
   "execution_count": 3,
   "metadata": {},
   "outputs": [
    {
     "data": {
      "text/plain": [
       "country               0\n",
       "year                  0\n",
       "country_code          0\n",
       "record                0\n",
       "crop_land         20472\n",
       "grazing_land      20472\n",
       "forest_land       20472\n",
       "fishing_ground    20473\n",
       "built_up_land     20473\n",
       "carbon            20473\n",
       "total                 9\n",
       "QScore                1\n",
       "dtype: int64"
      ]
     },
     "execution_count": 3,
     "metadata": {},
     "output_type": "execute_result"
    }
   ],
   "source": [
    "df.isna().sum()"
   ]
  },
  {
   "cell_type": "code",
   "execution_count": 4,
   "metadata": {},
   "outputs": [],
   "source": [
    "df = df.dropna()"
   ]
  },
  {
   "cell_type": "code",
   "execution_count": 5,
   "metadata": {},
   "outputs": [
    {
     "data": {
      "text/plain": [
       "country           0\n",
       "year              0\n",
       "country_code      0\n",
       "record            0\n",
       "crop_land         0\n",
       "grazing_land      0\n",
       "forest_land       0\n",
       "fishing_ground    0\n",
       "built_up_land     0\n",
       "carbon            0\n",
       "total             0\n",
       "QScore            0\n",
       "dtype: int64"
      ]
     },
     "execution_count": 5,
     "metadata": {},
     "output_type": "execute_result"
    }
   ],
   "source": [
    "df.isna().sum()"
   ]
  },
  {
   "cell_type": "code",
   "execution_count": 6,
   "metadata": {},
   "outputs": [
    {
     "data": {
      "text/plain": [
       "3A    51473\n",
       "2A      224\n",
       "1A       16\n",
       "Name: QScore, dtype: int64"
      ]
     },
     "execution_count": 6,
     "metadata": {},
     "output_type": "execute_result"
    }
   ],
   "source": [
    "df.QScore.value_counts()"
   ]
  },
  {
   "cell_type": "code",
   "execution_count": 7,
   "metadata": {},
   "outputs": [],
   "source": [
    "df['QScore'] = df['QScore'].replace(['1A'], '2A')"
   ]
  },
  {
   "cell_type": "code",
   "execution_count": 8,
   "metadata": {},
   "outputs": [
    {
     "data": {
      "text/plain": [
       "3A    51473\n",
       "2A      240\n",
       "Name: QScore, dtype: int64"
      ]
     },
     "execution_count": 8,
     "metadata": {},
     "output_type": "execute_result"
    }
   ],
   "source": [
    "df['QScore'].value_counts()"
   ]
  },
  {
   "cell_type": "code",
   "execution_count": 9,
   "metadata": {},
   "outputs": [],
   "source": [
    "df_2A = df[df['QScore'] == '2A']\n",
    "df_3A = df[df['QScore'] == '3A'].sample(350)"
   ]
  },
  {
   "cell_type": "code",
   "execution_count": 10,
   "metadata": {},
   "outputs": [],
   "source": [
    "data_df = df_2A.append(df_3A)"
   ]
  },
  {
   "cell_type": "code",
   "execution_count": 11,
   "metadata": {},
   "outputs": [
    {
     "data": {
      "text/html": [
       "<div>\n",
       "<style scoped>\n",
       "    .dataframe tbody tr th:only-of-type {\n",
       "        vertical-align: middle;\n",
       "    }\n",
       "\n",
       "    .dataframe tbody tr th {\n",
       "        vertical-align: top;\n",
       "    }\n",
       "\n",
       "    .dataframe thead th {\n",
       "        text-align: right;\n",
       "    }\n",
       "</style>\n",
       "<table border=\"1\" class=\"dataframe\">\n",
       "  <thead>\n",
       "    <tr style=\"text-align: right;\">\n",
       "      <th></th>\n",
       "      <th>country</th>\n",
       "      <th>year</th>\n",
       "      <th>country_code</th>\n",
       "      <th>record</th>\n",
       "      <th>crop_land</th>\n",
       "      <th>grazing_land</th>\n",
       "      <th>forest_land</th>\n",
       "      <th>fishing_ground</th>\n",
       "      <th>built_up_land</th>\n",
       "      <th>carbon</th>\n",
       "      <th>total</th>\n",
       "      <th>QScore</th>\n",
       "    </tr>\n",
       "  </thead>\n",
       "  <tbody>\n",
       "    <tr>\n",
       "      <th>1536</th>\n",
       "      <td>Algeria</td>\n",
       "      <td>2016</td>\n",
       "      <td>4</td>\n",
       "      <td>AreaPerCap</td>\n",
       "      <td>2.072989e-01</td>\n",
       "      <td>8.112722e-01</td>\n",
       "      <td>0.048357265</td>\n",
       "      <td>2.258528e-02</td>\n",
       "      <td>2.998367e-02</td>\n",
       "      <td>0.000000e+00</td>\n",
       "      <td>1.119497e+00</td>\n",
       "      <td>2A</td>\n",
       "    </tr>\n",
       "    <tr>\n",
       "      <th>1537</th>\n",
       "      <td>Algeria</td>\n",
       "      <td>2016</td>\n",
       "      <td>4</td>\n",
       "      <td>AreaTotHA</td>\n",
       "      <td>8.417600e+06</td>\n",
       "      <td>3.294260e+07</td>\n",
       "      <td>1963600</td>\n",
       "      <td>9.171000e+05</td>\n",
       "      <td>1.217520e+06</td>\n",
       "      <td>0.000000e+00</td>\n",
       "      <td>4.545842e+07</td>\n",
       "      <td>2A</td>\n",
       "    </tr>\n",
       "    <tr>\n",
       "      <th>1538</th>\n",
       "      <td>Algeria</td>\n",
       "      <td>2016</td>\n",
       "      <td>4</td>\n",
       "      <td>BiocapPerCap</td>\n",
       "      <td>2.021916e-01</td>\n",
       "      <td>2.636077e-01</td>\n",
       "      <td>0.027166736</td>\n",
       "      <td>7.947991e-03</td>\n",
       "      <td>2.924496e-02</td>\n",
       "      <td>0.000000e+00</td>\n",
       "      <td>5.301590e-01</td>\n",
       "      <td>2A</td>\n",
       "    </tr>\n",
       "    <tr>\n",
       "      <th>1539</th>\n",
       "      <td>Algeria</td>\n",
       "      <td>2016</td>\n",
       "      <td>4</td>\n",
       "      <td>BiocapTotGHA</td>\n",
       "      <td>8.210214e+06</td>\n",
       "      <td>1.070408e+07</td>\n",
       "      <td>1103135.245</td>\n",
       "      <td>3.227369e+05</td>\n",
       "      <td>1.187524e+06</td>\n",
       "      <td>0.000000e+00</td>\n",
       "      <td>2.152769e+07</td>\n",
       "      <td>2A</td>\n",
       "    </tr>\n",
       "    <tr>\n",
       "      <th>1540</th>\n",
       "      <td>Algeria</td>\n",
       "      <td>2016</td>\n",
       "      <td>4</td>\n",
       "      <td>EFConsPerCap</td>\n",
       "      <td>6.280528e-01</td>\n",
       "      <td>1.810332e-01</td>\n",
       "      <td>0.162800822</td>\n",
       "      <td>1.472910e-02</td>\n",
       "      <td>2.924496e-02</td>\n",
       "      <td>1.391455e+00</td>\n",
       "      <td>2.407316e+00</td>\n",
       "      <td>2A</td>\n",
       "    </tr>\n",
       "    <tr>\n",
       "      <th>...</th>\n",
       "      <td>...</td>\n",
       "      <td>...</td>\n",
       "      <td>...</td>\n",
       "      <td>...</td>\n",
       "      <td>...</td>\n",
       "      <td>...</td>\n",
       "      <td>...</td>\n",
       "      <td>...</td>\n",
       "      <td>...</td>\n",
       "      <td>...</td>\n",
       "      <td>...</td>\n",
       "      <td>...</td>\n",
       "    </tr>\n",
       "    <tr>\n",
       "      <th>39175</th>\n",
       "      <td>Mali</td>\n",
       "      <td>1999</td>\n",
       "      <td>133</td>\n",
       "      <td>EFProdTotGHA</td>\n",
       "      <td>6.128369e+06</td>\n",
       "      <td>7.356480e+06</td>\n",
       "      <td>2134884.185</td>\n",
       "      <td>2.894484e+05</td>\n",
       "      <td>7.027004e+05</td>\n",
       "      <td>2.704346e+05</td>\n",
       "      <td>1.688232e+07</td>\n",
       "      <td>3A</td>\n",
       "    </tr>\n",
       "    <tr>\n",
       "      <th>55819</th>\n",
       "      <td>Slovenia</td>\n",
       "      <td>2007</td>\n",
       "      <td>198</td>\n",
       "      <td>AreaTotHA</td>\n",
       "      <td>5.743614e+05</td>\n",
       "      <td>1.655922e+05</td>\n",
       "      <td>1183599.79</td>\n",
       "      <td>2.370400e+04</td>\n",
       "      <td>5.581421e+04</td>\n",
       "      <td>0.000000e+00</td>\n",
       "      <td>2.003072e+06</td>\n",
       "      <td>3A</td>\n",
       "    </tr>\n",
       "    <tr>\n",
       "      <th>62905</th>\n",
       "      <td>Oman</td>\n",
       "      <td>2012</td>\n",
       "      <td>221</td>\n",
       "      <td>EFProdTotGHA</td>\n",
       "      <td>1.885955e+05</td>\n",
       "      <td>1.396222e+05</td>\n",
       "      <td>16029.18404</td>\n",
       "      <td>2.253515e+06</td>\n",
       "      <td>5.056289e+05</td>\n",
       "      <td>2.132096e+07</td>\n",
       "      <td>2.442435e+07</td>\n",
       "      <td>3A</td>\n",
       "    </tr>\n",
       "    <tr>\n",
       "      <th>757</th>\n",
       "      <td>Albania</td>\n",
       "      <td>1974</td>\n",
       "      <td>3</td>\n",
       "      <td>EFConsTotGHA</td>\n",
       "      <td>1.105976e+06</td>\n",
       "      <td>6.066960e+05</td>\n",
       "      <td>1161209.151</td>\n",
       "      <td>1.509432e+04</td>\n",
       "      <td>5.153119e+04</td>\n",
       "      <td>1.738025e+06</td>\n",
       "      <td>4.678532e+06</td>\n",
       "      <td>3A</td>\n",
       "    </tr>\n",
       "    <tr>\n",
       "      <th>38059</th>\n",
       "      <td>Malawi</td>\n",
       "      <td>1972</td>\n",
       "      <td>130</td>\n",
       "      <td>BiocapTotGHA</td>\n",
       "      <td>2.564879e+06</td>\n",
       "      <td>1.231232e+06</td>\n",
       "      <td>449367.7215</td>\n",
       "      <td>9.162570e+05</td>\n",
       "      <td>1.717427e+05</td>\n",
       "      <td>0.000000e+00</td>\n",
       "      <td>5.333478e+06</td>\n",
       "      <td>3A</td>\n",
       "    </tr>\n",
       "  </tbody>\n",
       "</table>\n",
       "<p>590 rows × 12 columns</p>\n",
       "</div>"
      ],
      "text/plain": [
       "        country  year  country_code        record     crop_land  grazing_land  \\\n",
       "1536    Algeria  2016             4    AreaPerCap  2.072989e-01  8.112722e-01   \n",
       "1537    Algeria  2016             4     AreaTotHA  8.417600e+06  3.294260e+07   \n",
       "1538    Algeria  2016             4  BiocapPerCap  2.021916e-01  2.636077e-01   \n",
       "1539    Algeria  2016             4  BiocapTotGHA  8.210214e+06  1.070408e+07   \n",
       "1540    Algeria  2016             4  EFConsPerCap  6.280528e-01  1.810332e-01   \n",
       "...         ...   ...           ...           ...           ...           ...   \n",
       "39175      Mali  1999           133  EFProdTotGHA  6.128369e+06  7.356480e+06   \n",
       "55819  Slovenia  2007           198     AreaTotHA  5.743614e+05  1.655922e+05   \n",
       "62905      Oman  2012           221  EFProdTotGHA  1.885955e+05  1.396222e+05   \n",
       "757     Albania  1974             3  EFConsTotGHA  1.105976e+06  6.066960e+05   \n",
       "38059    Malawi  1972           130  BiocapTotGHA  2.564879e+06  1.231232e+06   \n",
       "\n",
       "       forest_land  fishing_ground  built_up_land        carbon         total  \\\n",
       "1536   0.048357265    2.258528e-02   2.998367e-02  0.000000e+00  1.119497e+00   \n",
       "1537       1963600    9.171000e+05   1.217520e+06  0.000000e+00  4.545842e+07   \n",
       "1538   0.027166736    7.947991e-03   2.924496e-02  0.000000e+00  5.301590e-01   \n",
       "1539   1103135.245    3.227369e+05   1.187524e+06  0.000000e+00  2.152769e+07   \n",
       "1540   0.162800822    1.472910e-02   2.924496e-02  1.391455e+00  2.407316e+00   \n",
       "...            ...             ...            ...           ...           ...   \n",
       "39175  2134884.185    2.894484e+05   7.027004e+05  2.704346e+05  1.688232e+07   \n",
       "55819   1183599.79    2.370400e+04   5.581421e+04  0.000000e+00  2.003072e+06   \n",
       "62905  16029.18404    2.253515e+06   5.056289e+05  2.132096e+07  2.442435e+07   \n",
       "757    1161209.151    1.509432e+04   5.153119e+04  1.738025e+06  4.678532e+06   \n",
       "38059  449367.7215    9.162570e+05   1.717427e+05  0.000000e+00  5.333478e+06   \n",
       "\n",
       "      QScore  \n",
       "1536      2A  \n",
       "1537      2A  \n",
       "1538      2A  \n",
       "1539      2A  \n",
       "1540      2A  \n",
       "...      ...  \n",
       "39175     3A  \n",
       "55819     3A  \n",
       "62905     3A  \n",
       "757       3A  \n",
       "38059     3A  \n",
       "\n",
       "[590 rows x 12 columns]"
      ]
     },
     "execution_count": 11,
     "metadata": {},
     "output_type": "execute_result"
    }
   ],
   "source": [
    "data_df"
   ]
  },
  {
   "cell_type": "code",
   "execution_count": 12,
   "metadata": {},
   "outputs": [
    {
     "data": {
      "text/html": [
       "<div>\n",
       "<style scoped>\n",
       "    .dataframe tbody tr th:only-of-type {\n",
       "        vertical-align: middle;\n",
       "    }\n",
       "\n",
       "    .dataframe tbody tr th {\n",
       "        vertical-align: top;\n",
       "    }\n",
       "\n",
       "    .dataframe thead th {\n",
       "        text-align: right;\n",
       "    }\n",
       "</style>\n",
       "<table border=\"1\" class=\"dataframe\">\n",
       "  <thead>\n",
       "    <tr style=\"text-align: right;\">\n",
       "      <th></th>\n",
       "      <th>country</th>\n",
       "      <th>year</th>\n",
       "      <th>country_code</th>\n",
       "      <th>record</th>\n",
       "      <th>crop_land</th>\n",
       "      <th>grazing_land</th>\n",
       "      <th>forest_land</th>\n",
       "      <th>fishing_ground</th>\n",
       "      <th>built_up_land</th>\n",
       "      <th>carbon</th>\n",
       "      <th>total</th>\n",
       "      <th>QScore</th>\n",
       "    </tr>\n",
       "  </thead>\n",
       "  <tbody>\n",
       "    <tr>\n",
       "      <th>0</th>\n",
       "      <td>Somalia</td>\n",
       "      <td>1984</td>\n",
       "      <td>201</td>\n",
       "      <td>EFProdPerCap</td>\n",
       "      <td>1.219996e-01</td>\n",
       "      <td>8.785041e-01</td>\n",
       "      <td>0.335634771</td>\n",
       "      <td>4.566257e-03</td>\n",
       "      <td>4.424460e-02</td>\n",
       "      <td>3.556048e-02</td>\n",
       "      <td>1.420510e+00</td>\n",
       "      <td>3A</td>\n",
       "    </tr>\n",
       "    <tr>\n",
       "      <th>1</th>\n",
       "      <td>Djibouti</td>\n",
       "      <td>2016</td>\n",
       "      <td>72</td>\n",
       "      <td>EFProdPerCap</td>\n",
       "      <td>1.658459e-02</td>\n",
       "      <td>2.154705e-01</td>\n",
       "      <td>0.158101127</td>\n",
       "      <td>2.596762e-02</td>\n",
       "      <td>2.068994e-01</td>\n",
       "      <td>2.691369e-01</td>\n",
       "      <td>8.921601e-01</td>\n",
       "      <td>2A</td>\n",
       "    </tr>\n",
       "    <tr>\n",
       "      <th>2</th>\n",
       "      <td>World</td>\n",
       "      <td>1986</td>\n",
       "      <td>5001</td>\n",
       "      <td>EFConsTotGHA</td>\n",
       "      <td>2.624290e+09</td>\n",
       "      <td>9.842358e+08</td>\n",
       "      <td>1.82964e+09</td>\n",
       "      <td>4.762376e+08</td>\n",
       "      <td>2.180566e+08</td>\n",
       "      <td>6.845996e+09</td>\n",
       "      <td>1.297846e+10</td>\n",
       "      <td>3A</td>\n",
       "    </tr>\n",
       "    <tr>\n",
       "      <th>3</th>\n",
       "      <td>Lebanon</td>\n",
       "      <td>1967</td>\n",
       "      <td>121</td>\n",
       "      <td>BiocapPerCap</td>\n",
       "      <td>1.744735e-01</td>\n",
       "      <td>7.516345e-02</td>\n",
       "      <td>0.137675439</td>\n",
       "      <td>1.625905e-02</td>\n",
       "      <td>2.376318e-02</td>\n",
       "      <td>0.000000e+00</td>\n",
       "      <td>4.273346e-01</td>\n",
       "      <td>3A</td>\n",
       "    </tr>\n",
       "    <tr>\n",
       "      <th>4</th>\n",
       "      <td>Ireland</td>\n",
       "      <td>2016</td>\n",
       "      <td>104</td>\n",
       "      <td>BiocapTotGHA</td>\n",
       "      <td>2.711247e+06</td>\n",
       "      <td>3.495762e+06</td>\n",
       "      <td>2340198.905</td>\n",
       "      <td>6.931219e+06</td>\n",
       "      <td>4.632982e+05</td>\n",
       "      <td>0.000000e+00</td>\n",
       "      <td>1.594172e+07</td>\n",
       "      <td>2A</td>\n",
       "    </tr>\n",
       "    <tr>\n",
       "      <th>...</th>\n",
       "      <td>...</td>\n",
       "      <td>...</td>\n",
       "      <td>...</td>\n",
       "      <td>...</td>\n",
       "      <td>...</td>\n",
       "      <td>...</td>\n",
       "      <td>...</td>\n",
       "      <td>...</td>\n",
       "      <td>...</td>\n",
       "      <td>...</td>\n",
       "      <td>...</td>\n",
       "      <td>...</td>\n",
       "    </tr>\n",
       "    <tr>\n",
       "      <th>585</th>\n",
       "      <td>Bahamas</td>\n",
       "      <td>1984</td>\n",
       "      <td>12</td>\n",
       "      <td>BiocapPerCap</td>\n",
       "      <td>4.978637e-02</td>\n",
       "      <td>4.054705e-03</td>\n",
       "      <td>1.925030064</td>\n",
       "      <td>1.377221e+01</td>\n",
       "      <td>3.417104e-02</td>\n",
       "      <td>0.000000e+00</td>\n",
       "      <td>1.578525e+01</td>\n",
       "      <td>3A</td>\n",
       "    </tr>\n",
       "    <tr>\n",
       "      <th>586</th>\n",
       "      <td>Switzerland</td>\n",
       "      <td>1976</td>\n",
       "      <td>211</td>\n",
       "      <td>EFConsTotGHA</td>\n",
       "      <td>4.745930e+06</td>\n",
       "      <td>1.900629e+06</td>\n",
       "      <td>2941101.082</td>\n",
       "      <td>9.448351e+05</td>\n",
       "      <td>4.215578e+05</td>\n",
       "      <td>2.315560e+07</td>\n",
       "      <td>3.410966e+07</td>\n",
       "      <td>3A</td>\n",
       "    </tr>\n",
       "    <tr>\n",
       "      <th>587</th>\n",
       "      <td>South Africa</td>\n",
       "      <td>2016</td>\n",
       "      <td>202</td>\n",
       "      <td>AreaPerCap</td>\n",
       "      <td>2.301621e-01</td>\n",
       "      <td>1.498663e+00</td>\n",
       "      <td>0.164972195</td>\n",
       "      <td>2.965179e-01</td>\n",
       "      <td>2.801332e-02</td>\n",
       "      <td>0.000000e+00</td>\n",
       "      <td>2.218328e+00</td>\n",
       "      <td>2A</td>\n",
       "    </tr>\n",
       "    <tr>\n",
       "      <th>588</th>\n",
       "      <td>Eswatini</td>\n",
       "      <td>2016</td>\n",
       "      <td>209</td>\n",
       "      <td>AreaTotHA</td>\n",
       "      <td>1.900000e+05</td>\n",
       "      <td>1.032000e+06</td>\n",
       "      <td>590600</td>\n",
       "      <td>1.600000e+04</td>\n",
       "      <td>5.314350e+04</td>\n",
       "      <td>0.000000e+00</td>\n",
       "      <td>1.881744e+06</td>\n",
       "      <td>2A</td>\n",
       "    </tr>\n",
       "    <tr>\n",
       "      <th>589</th>\n",
       "      <td>Venezuela, Bolivarian Republic of</td>\n",
       "      <td>1986</td>\n",
       "      <td>236</td>\n",
       "      <td>EFConsTotGHA</td>\n",
       "      <td>7.361290e+06</td>\n",
       "      <td>1.577536e+07</td>\n",
       "      <td>2.8317e+06</td>\n",
       "      <td>2.569431e+06</td>\n",
       "      <td>5.369627e+05</td>\n",
       "      <td>2.772583e+07</td>\n",
       "      <td>5.680058e+07</td>\n",
       "      <td>3A</td>\n",
       "    </tr>\n",
       "  </tbody>\n",
       "</table>\n",
       "<p>590 rows × 12 columns</p>\n",
       "</div>"
      ],
      "text/plain": [
       "                               country  year  country_code        record  \\\n",
       "0                              Somalia  1984           201  EFProdPerCap   \n",
       "1                             Djibouti  2016            72  EFProdPerCap   \n",
       "2                                World  1986          5001  EFConsTotGHA   \n",
       "3                              Lebanon  1967           121  BiocapPerCap   \n",
       "4                              Ireland  2016           104  BiocapTotGHA   \n",
       "..                                 ...   ...           ...           ...   \n",
       "585                            Bahamas  1984            12  BiocapPerCap   \n",
       "586                        Switzerland  1976           211  EFConsTotGHA   \n",
       "587                       South Africa  2016           202    AreaPerCap   \n",
       "588                           Eswatini  2016           209     AreaTotHA   \n",
       "589  Venezuela, Bolivarian Republic of  1986           236  EFConsTotGHA   \n",
       "\n",
       "        crop_land  grazing_land  forest_land  fishing_ground  built_up_land  \\\n",
       "0    1.219996e-01  8.785041e-01  0.335634771    4.566257e-03   4.424460e-02   \n",
       "1    1.658459e-02  2.154705e-01  0.158101127    2.596762e-02   2.068994e-01   \n",
       "2    2.624290e+09  9.842358e+08  1.82964e+09    4.762376e+08   2.180566e+08   \n",
       "3    1.744735e-01  7.516345e-02  0.137675439    1.625905e-02   2.376318e-02   \n",
       "4    2.711247e+06  3.495762e+06  2340198.905    6.931219e+06   4.632982e+05   \n",
       "..            ...           ...          ...             ...            ...   \n",
       "585  4.978637e-02  4.054705e-03  1.925030064    1.377221e+01   3.417104e-02   \n",
       "586  4.745930e+06  1.900629e+06  2941101.082    9.448351e+05   4.215578e+05   \n",
       "587  2.301621e-01  1.498663e+00  0.164972195    2.965179e-01   2.801332e-02   \n",
       "588  1.900000e+05  1.032000e+06       590600    1.600000e+04   5.314350e+04   \n",
       "589  7.361290e+06  1.577536e+07   2.8317e+06    2.569431e+06   5.369627e+05   \n",
       "\n",
       "           carbon         total QScore  \n",
       "0    3.556048e-02  1.420510e+00     3A  \n",
       "1    2.691369e-01  8.921601e-01     2A  \n",
       "2    6.845996e+09  1.297846e+10     3A  \n",
       "3    0.000000e+00  4.273346e-01     3A  \n",
       "4    0.000000e+00  1.594172e+07     2A  \n",
       "..            ...           ...    ...  \n",
       "585  0.000000e+00  1.578525e+01     3A  \n",
       "586  2.315560e+07  3.410966e+07     3A  \n",
       "587  0.000000e+00  2.218328e+00     2A  \n",
       "588  0.000000e+00  1.881744e+06     2A  \n",
       "589  2.772583e+07  5.680058e+07     3A  \n",
       "\n",
       "[590 rows x 12 columns]"
      ]
     },
     "execution_count": 12,
     "metadata": {},
     "output_type": "execute_result"
    }
   ],
   "source": [
    "import sklearn.utils\n",
    "data_df = sklearn.utils.shuffle(data_df)\n",
    "data_df = data_df.reset_index(drop=True)\n",
    "data_df"
   ]
  },
  {
   "cell_type": "code",
   "execution_count": 13,
   "metadata": {},
   "outputs": [
    {
     "data": {
      "text/plain": [
       "3A    350\n",
       "2A    240\n",
       "Name: QScore, dtype: int64"
      ]
     },
     "execution_count": 13,
     "metadata": {},
     "output_type": "execute_result"
    }
   ],
   "source": [
    "data_df['QScore'].value_counts()"
   ]
  },
  {
   "cell_type": "code",
   "execution_count": 14,
   "metadata": {},
   "outputs": [],
   "source": [
    "data_df = data_df.drop(columns=['country_code', 'country', 'year'])\n",
    "X = data_df.drop(columns='QScore')\n",
    "y = data_df['QScore']"
   ]
  },
  {
   "cell_type": "code",
   "execution_count": 15,
   "metadata": {},
   "outputs": [
    {
     "data": {
      "text/plain": [
       "(590, 8)"
      ]
     },
     "execution_count": 15,
     "metadata": {},
     "output_type": "execute_result"
    }
   ],
   "source": [
    "X.shape"
   ]
  },
  {
   "cell_type": "code",
   "execution_count": 16,
   "metadata": {},
   "outputs": [],
   "source": [
    "from sklearn.model_selection import train_test_split\n",
    "x_train, x_test, y_train, y_test = train_test_split(X, y, test_size=0.3, random_state=0)"
   ]
  },
  {
   "cell_type": "code",
   "execution_count": 17,
   "metadata": {},
   "outputs": [
    {
     "data": {
      "text/plain": [
       "3A    241\n",
       "2A    172\n",
       "Name: QScore, dtype: int64"
      ]
     },
     "execution_count": 17,
     "metadata": {},
     "output_type": "execute_result"
    }
   ],
   "source": [
    "y_train.value_counts()"
   ]
  },
  {
   "cell_type": "code",
   "execution_count": 18,
   "metadata": {},
   "outputs": [
    {
     "name": "stderr",
     "output_type": "stream",
     "text": [
      "C:\\Users\\Elite\\anaconda3\\lib\\site-packages\\pandas\\core\\generic.py:5168: SettingWithCopyWarning: \n",
      "A value is trying to be set on a copy of a slice from a DataFrame.\n",
      "Try using .loc[row_indexer,col_indexer] = value instead\n",
      "\n",
      "See the caveats in the documentation: https://pandas.pydata.org/pandas-docs/stable/user_guide/indexing.html#returning-a-view-versus-a-copy\n",
      "  self[name] = value\n"
     ]
    }
   ],
   "source": [
    "from sklearn.preprocessing import LabelEncoder\n",
    "encoder = LabelEncoder()\n",
    "x_train.record = encoder.fit_transform(x_train.record)\n",
    "x_test.record = encoder.transform(x_test.record)"
   ]
  },
  {
   "cell_type": "code",
   "execution_count": 19,
   "metadata": {},
   "outputs": [],
   "source": [
    "import imblearn\n",
    "from imblearn.over_sampling import SMOTE\n",
    "smote = SMOTE(random_state=1)\n",
    "x_train_balanced, y_balanced = smote.fit_sample(x_train, y_train)"
   ]
  },
  {
   "cell_type": "code",
   "execution_count": 20,
   "metadata": {},
   "outputs": [
    {
     "data": {
      "text/html": [
       "<div>\n",
       "<style scoped>\n",
       "    .dataframe tbody tr th:only-of-type {\n",
       "        vertical-align: middle;\n",
       "    }\n",
       "\n",
       "    .dataframe tbody tr th {\n",
       "        vertical-align: top;\n",
       "    }\n",
       "\n",
       "    .dataframe thead th {\n",
       "        text-align: right;\n",
       "    }\n",
       "</style>\n",
       "<table border=\"1\" class=\"dataframe\">\n",
       "  <thead>\n",
       "    <tr style=\"text-align: right;\">\n",
       "      <th></th>\n",
       "      <th>record</th>\n",
       "      <th>crop_land</th>\n",
       "      <th>grazing_land</th>\n",
       "      <th>forest_land</th>\n",
       "      <th>fishing_ground</th>\n",
       "      <th>built_up_land</th>\n",
       "      <th>carbon</th>\n",
       "      <th>total</th>\n",
       "    </tr>\n",
       "  </thead>\n",
       "  <tbody>\n",
       "    <tr>\n",
       "      <th>0</th>\n",
       "      <td>7</td>\n",
       "      <td>1.715485e+06</td>\n",
       "      <td>2.923741e+06</td>\n",
       "      <td>206308</td>\n",
       "      <td>1.649330e+06</td>\n",
       "      <td>8.711968e+05</td>\n",
       "      <td>3.485760e+06</td>\n",
       "      <td>1.085182e+07</td>\n",
       "    </tr>\n",
       "    <tr>\n",
       "      <th>1</th>\n",
       "      <td>6</td>\n",
       "      <td>4.289349e-01</td>\n",
       "      <td>1.267040e-02</td>\n",
       "      <td>0.269142</td>\n",
       "      <td>2.025506e-01</td>\n",
       "      <td>5.563677e-02</td>\n",
       "      <td>5.709976e-01</td>\n",
       "      <td>1.539933e+00</td>\n",
       "    </tr>\n",
       "    <tr>\n",
       "      <th>2</th>\n",
       "      <td>4</td>\n",
       "      <td>1.500847e-01</td>\n",
       "      <td>3.274005e-01</td>\n",
       "      <td>0.227794</td>\n",
       "      <td>9.770048e-02</td>\n",
       "      <td>4.372914e-02</td>\n",
       "      <td>1.032697e-01</td>\n",
       "      <td>9.499781e-01</td>\n",
       "    </tr>\n",
       "    <tr>\n",
       "      <th>3</th>\n",
       "      <td>6</td>\n",
       "      <td>2.829950e-01</td>\n",
       "      <td>1.286783e-01</td>\n",
       "      <td>0.00393865</td>\n",
       "      <td>1.999000e-04</td>\n",
       "      <td>9.446197e-02</td>\n",
       "      <td>2.141098e-01</td>\n",
       "      <td>7.243837e-01</td>\n",
       "    </tr>\n",
       "    <tr>\n",
       "      <th>4</th>\n",
       "      <td>5</td>\n",
       "      <td>1.346115e+05</td>\n",
       "      <td>9.060700e+04</td>\n",
       "      <td>116097</td>\n",
       "      <td>7.889400e+05</td>\n",
       "      <td>2.033112e+02</td>\n",
       "      <td>8.337630e+05</td>\n",
       "      <td>1.964222e+06</td>\n",
       "    </tr>\n",
       "    <tr>\n",
       "      <th>...</th>\n",
       "      <td>...</td>\n",
       "      <td>...</td>\n",
       "      <td>...</td>\n",
       "      <td>...</td>\n",
       "      <td>...</td>\n",
       "      <td>...</td>\n",
       "      <td>...</td>\n",
       "      <td>...</td>\n",
       "    </tr>\n",
       "    <tr>\n",
       "      <th>477</th>\n",
       "      <td>1</td>\n",
       "      <td>5.275545e+06</td>\n",
       "      <td>3.111230e+06</td>\n",
       "      <td>1.1697e+06</td>\n",
       "      <td>1.285393e+05</td>\n",
       "      <td>1.026440e+06</td>\n",
       "      <td>0.000000e+00</td>\n",
       "      <td>1.071145e+07</td>\n",
       "    </tr>\n",
       "    <tr>\n",
       "      <th>478</th>\n",
       "      <td>5</td>\n",
       "      <td>6.751468e+06</td>\n",
       "      <td>2.397158e+06</td>\n",
       "      <td>8.34797e+06</td>\n",
       "      <td>5.368125e+05</td>\n",
       "      <td>1.426155e+06</td>\n",
       "      <td>1.058935e+07</td>\n",
       "      <td>3.004891e+07</td>\n",
       "    </tr>\n",
       "    <tr>\n",
       "      <th>479</th>\n",
       "      <td>1</td>\n",
       "      <td>1.486879e+07</td>\n",
       "      <td>5.391694e+07</td>\n",
       "      <td>1.0041e+07</td>\n",
       "      <td>1.985293e+07</td>\n",
       "      <td>2.542489e+06</td>\n",
       "      <td>0.000000e+00</td>\n",
       "      <td>1.012221e+08</td>\n",
       "    </tr>\n",
       "    <tr>\n",
       "      <th>480</th>\n",
       "      <td>2</td>\n",
       "      <td>2.773322e-01</td>\n",
       "      <td>1.381344e-01</td>\n",
       "      <td>0.0074624</td>\n",
       "      <td>1.074208e-02</td>\n",
       "      <td>8.989146e-02</td>\n",
       "      <td>0.000000e+00</td>\n",
       "      <td>5.235625e-01</td>\n",
       "    </tr>\n",
       "    <tr>\n",
       "      <th>481</th>\n",
       "      <td>5</td>\n",
       "      <td>1.501400e+05</td>\n",
       "      <td>4.679390e+04</td>\n",
       "      <td>80222.8</td>\n",
       "      <td>2.803964e+04</td>\n",
       "      <td>2.386819e+04</td>\n",
       "      <td>3.142541e+05</td>\n",
       "      <td>6.433187e+05</td>\n",
       "    </tr>\n",
       "  </tbody>\n",
       "</table>\n",
       "<p>482 rows × 8 columns</p>\n",
       "</div>"
      ],
      "text/plain": [
       "     record     crop_land  grazing_land  forest_land  fishing_ground  \\\n",
       "0         7  1.715485e+06  2.923741e+06       206308    1.649330e+06   \n",
       "1         6  4.289349e-01  1.267040e-02     0.269142    2.025506e-01   \n",
       "2         4  1.500847e-01  3.274005e-01     0.227794    9.770048e-02   \n",
       "3         6  2.829950e-01  1.286783e-01   0.00393865    1.999000e-04   \n",
       "4         5  1.346115e+05  9.060700e+04       116097    7.889400e+05   \n",
       "..      ...           ...           ...          ...             ...   \n",
       "477       1  5.275545e+06  3.111230e+06   1.1697e+06    1.285393e+05   \n",
       "478       5  6.751468e+06  2.397158e+06  8.34797e+06    5.368125e+05   \n",
       "479       1  1.486879e+07  5.391694e+07   1.0041e+07    1.985293e+07   \n",
       "480       2  2.773322e-01  1.381344e-01    0.0074624    1.074208e-02   \n",
       "481       5  1.501400e+05  4.679390e+04      80222.8    2.803964e+04   \n",
       "\n",
       "     built_up_land        carbon         total  \n",
       "0     8.711968e+05  3.485760e+06  1.085182e+07  \n",
       "1     5.563677e-02  5.709976e-01  1.539933e+00  \n",
       "2     4.372914e-02  1.032697e-01  9.499781e-01  \n",
       "3     9.446197e-02  2.141098e-01  7.243837e-01  \n",
       "4     2.033112e+02  8.337630e+05  1.964222e+06  \n",
       "..             ...           ...           ...  \n",
       "477   1.026440e+06  0.000000e+00  1.071145e+07  \n",
       "478   1.426155e+06  1.058935e+07  3.004891e+07  \n",
       "479   2.542489e+06  0.000000e+00  1.012221e+08  \n",
       "480   8.989146e-02  0.000000e+00  5.235625e-01  \n",
       "481   2.386819e+04  3.142541e+05  6.433187e+05  \n",
       "\n",
       "[482 rows x 8 columns]"
      ]
     },
     "execution_count": 20,
     "metadata": {},
     "output_type": "execute_result"
    }
   ],
   "source": [
    "x_train_balanced"
   ]
  },
  {
   "cell_type": "code",
   "execution_count": 21,
   "metadata": {},
   "outputs": [
    {
     "data": {
      "text/plain": [
       "3A    241\n",
       "2A    241\n",
       "Name: QScore, dtype: int64"
      ]
     },
     "execution_count": 21,
     "metadata": {},
     "output_type": "execute_result"
    }
   ],
   "source": [
    "y_balanced.value_counts()"
   ]
  },
  {
   "cell_type": "code",
   "execution_count": 22,
   "metadata": {},
   "outputs": [],
   "source": [
    "from sklearn.preprocessing import MinMaxScaler\n",
    "scaler = MinMaxScaler()\n",
    "normalised_train_df = scaler.fit_transform(x_train_balanced.drop(columns=['record']))\n",
    "normalised_train_df = pd.DataFrame(normalised_train_df, columns=x_train_balanced.drop(columns=[ 'record' ]).columns)\n",
    "normalised_train_df['record'] = x_train_balanced['record'] "
   ]
  },
  {
   "cell_type": "code",
   "execution_count": 23,
   "metadata": {},
   "outputs": [],
   "source": [
    "x_test = x_test.reset_index(drop=True)\n",
    "normalised_test_df = scaler.fit_transform(x_test.drop(columns=['record']))\n",
    "normalised_test_df = pd.DataFrame(normalised_test_df, columns=x_test.drop(columns=['record']).columns)\n",
    "normalised_test_df['record'] = x_test['record']"
   ]
  },
  {
   "cell_type": "code",
   "execution_count": 24,
   "metadata": {},
   "outputs": [
    {
     "data": {
      "text/plain": [
       "LogisticRegression()"
      ]
     },
     "execution_count": 24,
     "metadata": {},
     "output_type": "execute_result"
    }
   ],
   "source": [
    "from sklearn.linear_model import LogisticRegression\n",
    "log_reg = LogisticRegression()\n",
    "log_reg.fit(normalised_train_df, y_balanced)"
   ]
  },
  {
   "cell_type": "code",
   "execution_count": 25,
   "metadata": {},
   "outputs": [
    {
     "data": {
      "text/plain": [
       "array([0.55366506, 0.54634354, 0.55203473, 0.46869235, 0.53079179])"
      ]
     },
     "execution_count": 25,
     "metadata": {},
     "output_type": "execute_result"
    }
   ],
   "source": [
    "from sklearn.model_selection import cross_val_score\n",
    "scores = cross_val_score(log_reg, normalised_train_df, y_balanced, cv=5, scoring='f1_macro')\n",
    "scores"
   ]
  },
  {
   "cell_type": "code",
   "execution_count": 26,
   "metadata": {},
   "outputs": [
    {
     "data": {
      "text/plain": [
       "array([[32, 36],\n",
       "       [50, 59]], dtype=int64)"
      ]
     },
     "execution_count": 26,
     "metadata": {},
     "output_type": "execute_result"
    }
   ],
   "source": [
    "from sklearn.metrics import f1_score, confusion_matrix\n",
    "new_predictions = log_reg.predict(normalised_test_df)\n",
    "#cnf_mat = confusion_matrix(y_true=y_test, y_pred=new_predictions, labels=['2A', '3A'])\n",
    "cnf_mat = confusion_matrix(y_true=y_test, y_pred=new_predictions, labels=[ '2A' , '3A' ])\n",
    "cnf_mat"
   ]
  },
  {
   "cell_type": "code",
   "execution_count": 27,
   "metadata": {},
   "outputs": [],
   "source": [
    "#from sklearn.model_selection import KFold\n",
    "#kf = KFold(n_splits=5)\n",
    "#kf.split(normalised_train_df)\n",
    "#f1_scores = []\n",
    "#for train_index, test_index in kf.split(normalised_train_df):\n",
    "#    x_train, x_test = normalised_train_df.iloc[train_index], normalised_train_df.iloc[test_index]\n",
    "#    y_train, y_test = y_balanced[train_index], y_balanced[test_index]\n",
    "#    model = LogisticRegression().fit(x_train, y_train)\n",
    "    \n",
    "#    f1_scores.append(f1_score(y_true=y_test, y_pred=model.predict(x_test), pos_label='2A')*100)"
   ]
  },
  {
   "cell_type": "code",
   "execution_count": 28,
   "metadata": {},
   "outputs": [],
   "source": [
    "#import numpy as np\n",
    "#from sklearn.model_selection import StratifiedKFold\n",
    "#skf = StratifiedKFold(n_splits= 5 , shuffle= True , random_state= 1 )\n",
    "#f2_scores = []\n",
    "#for train_index, test_index in skf.split(normalised_train_df, y_balanced):\n",
    "#    x_train, x_test = np.array(normalised_train_df)[train_index], np.array(normalised_train_df)[test_index]\n",
    "#    y_train, y_test = y_balanced[train_index], y_balanced[test_index]\n",
    "#    model = LogisticRegression().fit(x_train, y_train)\n",
    "\n",
    "#    f2_scores.append(f1_score(y_true=y_test, y_pred=model.predict(x_test), pos_label= '2A' ))"
   ]
  },
  {
   "cell_type": "code",
   "execution_count": 29,
   "metadata": {},
   "outputs": [],
   "source": [
    "from sklearn.model_selection import LeaveOneOut\n",
    "loo = LeaveOneOut()\n",
    "score = cross_val_score(LogisticRegression(), normalised_train_df, y_balanced, cv=loo, scoring= 'f1_macro' )\n",
    "average_score = score.mean() * 100"
   ]
  },
  {
   "cell_type": "code",
   "execution_count": 30,
   "metadata": {},
   "outputs": [
    {
     "data": {
      "text/plain": [
       "53.11203319502075"
      ]
     },
     "execution_count": 30,
     "metadata": {},
     "output_type": "execute_result"
    }
   ],
   "source": [
    "average_score"
   ]
  },
  {
   "cell_type": "code",
   "execution_count": 31,
   "metadata": {},
   "outputs": [
    {
     "name": "stdout",
     "output_type": "stream",
     "text": [
      "Accuracy: 51\n"
     ]
    }
   ],
   "source": [
    "from sklearn.metrics import accuracy_score\n",
    "accuracy = accuracy_score(y_true=y_test, y_pred=new_predictions)\n",
    "print( 'Accuracy: {}' .format(round(accuracy* 100 ), 2 ))"
   ]
  },
  {
   "cell_type": "code",
   "execution_count": 32,
   "metadata": {},
   "outputs": [
    {
     "name": "stdout",
     "output_type": "stream",
     "text": [
      "Precision: 39\n"
     ]
    }
   ],
   "source": [
    "from sklearn.metrics import precision_score\n",
    "precision = precision_score(y_true=y_test, y_pred=new_predictions, pos_label= '2A' )\n",
    "print( 'Precision: {}' .format(round(precision* 100 ), 2 ))"
   ]
  },
  {
   "cell_type": "code",
   "execution_count": 33,
   "metadata": {},
   "outputs": [
    {
     "name": "stdout",
     "output_type": "stream",
     "text": [
      "Recall: 47\n"
     ]
    }
   ],
   "source": [
    "from sklearn.metrics import recall_score\n",
    "recall = recall_score(y_true=y_test, y_pred=new_predictions, pos_label= '2A' )\n",
    "print( 'Recall: {}' .format(round(recall* 100 ), 2 ))"
   ]
  },
  {
   "cell_type": "code",
   "execution_count": 34,
   "metadata": {},
   "outputs": [
    {
     "name": "stdout",
     "output_type": "stream",
     "text": [
      "F1: 43\n"
     ]
    }
   ],
   "source": [
    "f1 = f1_score(y_true=y_test, y_pred=new_predictions, pos_label= '2A' )\n",
    "print( 'F1: {}' .format(round(f1* 100 ), 2 ))"
   ]
  },
  {
   "cell_type": "code",
   "execution_count": 35,
   "metadata": {},
   "outputs": [
    {
     "data": {
      "text/plain": [
       "DecisionTreeClassifier()"
      ]
     },
     "execution_count": 35,
     "metadata": {},
     "output_type": "execute_result"
    }
   ],
   "source": [
    "from sklearn.tree import DecisionTreeClassifier\n",
    "dec_tree = DecisionTreeClassifier()\n",
    "dec_tree.fit(normalised_train_df, y_balanced)"
   ]
  },
  {
   "cell_type": "code",
   "execution_count": null,
   "metadata": {},
   "outputs": [],
   "source": []
  }
 ],
 "metadata": {
  "kernelspec": {
   "display_name": "Python 3",
   "language": "python",
   "name": "python3"
  },
  "language_info": {
   "codemirror_mode": {
    "name": "ipython",
    "version": 3
   },
   "file_extension": ".py",
   "mimetype": "text/x-python",
   "name": "python",
   "nbconvert_exporter": "python",
   "pygments_lexer": "ipython3",
   "version": "3.8.5"
  }
 },
 "nbformat": 4,
 "nbformat_minor": 4
}
