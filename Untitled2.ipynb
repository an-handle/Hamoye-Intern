{
  "nbformat": 4,
  "nbformat_minor": 0,
  "metadata": {
    "colab": {
      "name": "Untitled2.ipynb",
      "provenance": [],
      "collapsed_sections": [],
      "authorship_tag": "ABX9TyPEai3uqHScOvjOUIIC1CGi",
      "include_colab_link": true
    },
    "kernelspec": {
      "display_name": "Python 3",
      "name": "python3"
    },
    "language_info": {
      "name": "python"
    }
  },
  "cells": [
    {
      "cell_type": "markdown",
      "metadata": {
        "id": "view-in-github",
        "colab_type": "text"
      },
      "source": [
        "<a href=\"https://colab.research.google.com/github/an-handle/Hamoye-Intern/blob/master/Untitled2.ipynb\" target=\"_parent\"><img src=\"https://colab.research.google.com/assets/colab-badge.svg\" alt=\"Open In Colab\"/></a>"
      ]
    },
    {
      "cell_type": "code",
      "metadata": {
        "id": "XRixZGFuuAAH",
        "colab": {
          "base_uri": "https://localhost:8080/"
        },
        "outputId": "8fead410-5700-4e79-b1cd-15c284d6c64d"
      },
      "source": [
        "from google.colab import drive\n",
        "drive.mount('/content/drive')"
      ],
      "execution_count": 1,
      "outputs": [
        {
          "output_type": "stream",
          "name": "stdout",
          "text": [
            "Mounted at /content/drive\n"
          ]
        }
      ]
    },
    {
      "cell_type": "code",
      "metadata": {
        "colab": {
          "base_uri": "https://localhost:8080/",
          "height": 258
        },
        "id": "VsRbyBf9l6Ky",
        "outputId": "bb6462f4-aba4-4327-a901-2ac0367883df"
      },
      "source": [
        "import pandas as pd\n",
        "df = pd.read_csv('/content/drive/My Drive/household_power_consumption.txt', sep=';')\n",
        "df.head()"
      ],
      "execution_count": 42,
      "outputs": [
        {
          "output_type": "stream",
          "name": "stderr",
          "text": [
            "/usr/local/lib/python3.7/dist-packages/IPython/core/interactiveshell.py:2718: DtypeWarning: Columns (2,3,4,5,6,7) have mixed types.Specify dtype option on import or set low_memory=False.\n",
            "  interactivity=interactivity, compiler=compiler, result=result)\n"
          ]
        },
        {
          "output_type": "execute_result",
          "data": {
            "text/html": [
              "<div>\n",
              "<style scoped>\n",
              "    .dataframe tbody tr th:only-of-type {\n",
              "        vertical-align: middle;\n",
              "    }\n",
              "\n",
              "    .dataframe tbody tr th {\n",
              "        vertical-align: top;\n",
              "    }\n",
              "\n",
              "    .dataframe thead th {\n",
              "        text-align: right;\n",
              "    }\n",
              "</style>\n",
              "<table border=\"1\" class=\"dataframe\">\n",
              "  <thead>\n",
              "    <tr style=\"text-align: right;\">\n",
              "      <th></th>\n",
              "      <th>Date</th>\n",
              "      <th>Time</th>\n",
              "      <th>Global_active_power</th>\n",
              "      <th>Global_reactive_power</th>\n",
              "      <th>Voltage</th>\n",
              "      <th>Global_intensity</th>\n",
              "      <th>Sub_metering_1</th>\n",
              "      <th>Sub_metering_2</th>\n",
              "      <th>Sub_metering_3</th>\n",
              "    </tr>\n",
              "  </thead>\n",
              "  <tbody>\n",
              "    <tr>\n",
              "      <th>0</th>\n",
              "      <td>16/12/2006</td>\n",
              "      <td>17:24:00</td>\n",
              "      <td>4.216</td>\n",
              "      <td>0.418</td>\n",
              "      <td>234.840</td>\n",
              "      <td>18.400</td>\n",
              "      <td>0.000</td>\n",
              "      <td>1.000</td>\n",
              "      <td>17.0</td>\n",
              "    </tr>\n",
              "    <tr>\n",
              "      <th>1</th>\n",
              "      <td>16/12/2006</td>\n",
              "      <td>17:25:00</td>\n",
              "      <td>5.360</td>\n",
              "      <td>0.436</td>\n",
              "      <td>233.630</td>\n",
              "      <td>23.000</td>\n",
              "      <td>0.000</td>\n",
              "      <td>1.000</td>\n",
              "      <td>16.0</td>\n",
              "    </tr>\n",
              "    <tr>\n",
              "      <th>2</th>\n",
              "      <td>16/12/2006</td>\n",
              "      <td>17:26:00</td>\n",
              "      <td>5.374</td>\n",
              "      <td>0.498</td>\n",
              "      <td>233.290</td>\n",
              "      <td>23.000</td>\n",
              "      <td>0.000</td>\n",
              "      <td>2.000</td>\n",
              "      <td>17.0</td>\n",
              "    </tr>\n",
              "    <tr>\n",
              "      <th>3</th>\n",
              "      <td>16/12/2006</td>\n",
              "      <td>17:27:00</td>\n",
              "      <td>5.388</td>\n",
              "      <td>0.502</td>\n",
              "      <td>233.740</td>\n",
              "      <td>23.000</td>\n",
              "      <td>0.000</td>\n",
              "      <td>1.000</td>\n",
              "      <td>17.0</td>\n",
              "    </tr>\n",
              "    <tr>\n",
              "      <th>4</th>\n",
              "      <td>16/12/2006</td>\n",
              "      <td>17:28:00</td>\n",
              "      <td>3.666</td>\n",
              "      <td>0.528</td>\n",
              "      <td>235.680</td>\n",
              "      <td>15.800</td>\n",
              "      <td>0.000</td>\n",
              "      <td>1.000</td>\n",
              "      <td>17.0</td>\n",
              "    </tr>\n",
              "  </tbody>\n",
              "</table>\n",
              "</div>"
            ],
            "text/plain": [
              "         Date      Time  ... Sub_metering_2 Sub_metering_3\n",
              "0  16/12/2006  17:24:00  ...          1.000           17.0\n",
              "1  16/12/2006  17:25:00  ...          1.000           16.0\n",
              "2  16/12/2006  17:26:00  ...          2.000           17.0\n",
              "3  16/12/2006  17:27:00  ...          1.000           17.0\n",
              "4  16/12/2006  17:28:00  ...          1.000           17.0\n",
              "\n",
              "[5 rows x 9 columns]"
            ]
          },
          "metadata": {},
          "execution_count": 42
        }
      ]
    },
    {
      "cell_type": "code",
      "metadata": {
        "colab": {
          "base_uri": "https://localhost:8080/"
        },
        "id": "op7Nl-msQhjH",
        "outputId": "bad4cc4d-a9a8-4dc9-dc26-5e8b0f917b34"
      },
      "source": [
        "df.dtypes"
      ],
      "execution_count": 43,
      "outputs": [
        {
          "output_type": "execute_result",
          "data": {
            "text/plain": [
              "Date                      object\n",
              "Time                      object\n",
              "Global_active_power       object\n",
              "Global_reactive_power     object\n",
              "Voltage                   object\n",
              "Global_intensity          object\n",
              "Sub_metering_1            object\n",
              "Sub_metering_2            object\n",
              "Sub_metering_3           float64\n",
              "dtype: object"
            ]
          },
          "metadata": {},
          "execution_count": 43
        }
      ]
    },
    {
      "cell_type": "code",
      "metadata": {
        "id": "j5RQ2W-tHWW_"
      },
      "source": [
        "df['DateTime'] = df['Date'] + ' ' + df['Time']"
      ],
      "execution_count": 44,
      "outputs": []
    },
    {
      "cell_type": "code",
      "metadata": {
        "colab": {
          "base_uri": "https://localhost:8080/",
          "height": 204
        },
        "id": "N1B-YnqhHd6D",
        "outputId": "575a240e-ee51-48eb-b343-e8af522901b7"
      },
      "source": [
        "df.drop(columns=['Date', 'Time'], inplace=True)\n",
        "df.head()"
      ],
      "execution_count": 45,
      "outputs": [
        {
          "output_type": "execute_result",
          "data": {
            "text/html": [
              "<div>\n",
              "<style scoped>\n",
              "    .dataframe tbody tr th:only-of-type {\n",
              "        vertical-align: middle;\n",
              "    }\n",
              "\n",
              "    .dataframe tbody tr th {\n",
              "        vertical-align: top;\n",
              "    }\n",
              "\n",
              "    .dataframe thead th {\n",
              "        text-align: right;\n",
              "    }\n",
              "</style>\n",
              "<table border=\"1\" class=\"dataframe\">\n",
              "  <thead>\n",
              "    <tr style=\"text-align: right;\">\n",
              "      <th></th>\n",
              "      <th>Global_active_power</th>\n",
              "      <th>Global_reactive_power</th>\n",
              "      <th>Voltage</th>\n",
              "      <th>Global_intensity</th>\n",
              "      <th>Sub_metering_1</th>\n",
              "      <th>Sub_metering_2</th>\n",
              "      <th>Sub_metering_3</th>\n",
              "      <th>DateTime</th>\n",
              "    </tr>\n",
              "  </thead>\n",
              "  <tbody>\n",
              "    <tr>\n",
              "      <th>0</th>\n",
              "      <td>4.216</td>\n",
              "      <td>0.418</td>\n",
              "      <td>234.840</td>\n",
              "      <td>18.400</td>\n",
              "      <td>0.000</td>\n",
              "      <td>1.000</td>\n",
              "      <td>17.0</td>\n",
              "      <td>16/12/2006 17:24:00</td>\n",
              "    </tr>\n",
              "    <tr>\n",
              "      <th>1</th>\n",
              "      <td>5.360</td>\n",
              "      <td>0.436</td>\n",
              "      <td>233.630</td>\n",
              "      <td>23.000</td>\n",
              "      <td>0.000</td>\n",
              "      <td>1.000</td>\n",
              "      <td>16.0</td>\n",
              "      <td>16/12/2006 17:25:00</td>\n",
              "    </tr>\n",
              "    <tr>\n",
              "      <th>2</th>\n",
              "      <td>5.374</td>\n",
              "      <td>0.498</td>\n",
              "      <td>233.290</td>\n",
              "      <td>23.000</td>\n",
              "      <td>0.000</td>\n",
              "      <td>2.000</td>\n",
              "      <td>17.0</td>\n",
              "      <td>16/12/2006 17:26:00</td>\n",
              "    </tr>\n",
              "    <tr>\n",
              "      <th>3</th>\n",
              "      <td>5.388</td>\n",
              "      <td>0.502</td>\n",
              "      <td>233.740</td>\n",
              "      <td>23.000</td>\n",
              "      <td>0.000</td>\n",
              "      <td>1.000</td>\n",
              "      <td>17.0</td>\n",
              "      <td>16/12/2006 17:27:00</td>\n",
              "    </tr>\n",
              "    <tr>\n",
              "      <th>4</th>\n",
              "      <td>3.666</td>\n",
              "      <td>0.528</td>\n",
              "      <td>235.680</td>\n",
              "      <td>15.800</td>\n",
              "      <td>0.000</td>\n",
              "      <td>1.000</td>\n",
              "      <td>17.0</td>\n",
              "      <td>16/12/2006 17:28:00</td>\n",
              "    </tr>\n",
              "  </tbody>\n",
              "</table>\n",
              "</div>"
            ],
            "text/plain": [
              "  Global_active_power  ...             DateTime\n",
              "0               4.216  ...  16/12/2006 17:24:00\n",
              "1               5.360  ...  16/12/2006 17:25:00\n",
              "2               5.374  ...  16/12/2006 17:26:00\n",
              "3               5.388  ...  16/12/2006 17:27:00\n",
              "4               3.666  ...  16/12/2006 17:28:00\n",
              "\n",
              "[5 rows x 8 columns]"
            ]
          },
          "metadata": {},
          "execution_count": 45
        }
      ]
    },
    {
      "cell_type": "code",
      "metadata": {
        "id": "8IKSl3ALt0Ox"
      },
      "source": [
        "df['DateTime'] = pd.to_datetime(df['DateTime'])"
      ],
      "execution_count": 46,
      "outputs": []
    },
    {
      "cell_type": "code",
      "metadata": {
        "colab": {
          "base_uri": "https://localhost:8080/",
          "height": 204
        },
        "id": "bHVca2D_IwRH",
        "outputId": "c44ee9ce-d71f-49c6-8bfa-e8029837af82"
      },
      "source": [
        "df.head()"
      ],
      "execution_count": 47,
      "outputs": [
        {
          "output_type": "execute_result",
          "data": {
            "text/html": [
              "<div>\n",
              "<style scoped>\n",
              "    .dataframe tbody tr th:only-of-type {\n",
              "        vertical-align: middle;\n",
              "    }\n",
              "\n",
              "    .dataframe tbody tr th {\n",
              "        vertical-align: top;\n",
              "    }\n",
              "\n",
              "    .dataframe thead th {\n",
              "        text-align: right;\n",
              "    }\n",
              "</style>\n",
              "<table border=\"1\" class=\"dataframe\">\n",
              "  <thead>\n",
              "    <tr style=\"text-align: right;\">\n",
              "      <th></th>\n",
              "      <th>Global_active_power</th>\n",
              "      <th>Global_reactive_power</th>\n",
              "      <th>Voltage</th>\n",
              "      <th>Global_intensity</th>\n",
              "      <th>Sub_metering_1</th>\n",
              "      <th>Sub_metering_2</th>\n",
              "      <th>Sub_metering_3</th>\n",
              "      <th>DateTime</th>\n",
              "    </tr>\n",
              "  </thead>\n",
              "  <tbody>\n",
              "    <tr>\n",
              "      <th>0</th>\n",
              "      <td>4.216</td>\n",
              "      <td>0.418</td>\n",
              "      <td>234.840</td>\n",
              "      <td>18.400</td>\n",
              "      <td>0.000</td>\n",
              "      <td>1.000</td>\n",
              "      <td>17.0</td>\n",
              "      <td>2006-12-16 17:24:00</td>\n",
              "    </tr>\n",
              "    <tr>\n",
              "      <th>1</th>\n",
              "      <td>5.360</td>\n",
              "      <td>0.436</td>\n",
              "      <td>233.630</td>\n",
              "      <td>23.000</td>\n",
              "      <td>0.000</td>\n",
              "      <td>1.000</td>\n",
              "      <td>16.0</td>\n",
              "      <td>2006-12-16 17:25:00</td>\n",
              "    </tr>\n",
              "    <tr>\n",
              "      <th>2</th>\n",
              "      <td>5.374</td>\n",
              "      <td>0.498</td>\n",
              "      <td>233.290</td>\n",
              "      <td>23.000</td>\n",
              "      <td>0.000</td>\n",
              "      <td>2.000</td>\n",
              "      <td>17.0</td>\n",
              "      <td>2006-12-16 17:26:00</td>\n",
              "    </tr>\n",
              "    <tr>\n",
              "      <th>3</th>\n",
              "      <td>5.388</td>\n",
              "      <td>0.502</td>\n",
              "      <td>233.740</td>\n",
              "      <td>23.000</td>\n",
              "      <td>0.000</td>\n",
              "      <td>1.000</td>\n",
              "      <td>17.0</td>\n",
              "      <td>2006-12-16 17:27:00</td>\n",
              "    </tr>\n",
              "    <tr>\n",
              "      <th>4</th>\n",
              "      <td>3.666</td>\n",
              "      <td>0.528</td>\n",
              "      <td>235.680</td>\n",
              "      <td>15.800</td>\n",
              "      <td>0.000</td>\n",
              "      <td>1.000</td>\n",
              "      <td>17.0</td>\n",
              "      <td>2006-12-16 17:28:00</td>\n",
              "    </tr>\n",
              "  </tbody>\n",
              "</table>\n",
              "</div>"
            ],
            "text/plain": [
              "  Global_active_power Global_reactive_power  ... Sub_metering_3            DateTime\n",
              "0               4.216                 0.418  ...           17.0 2006-12-16 17:24:00\n",
              "1               5.360                 0.436  ...           16.0 2006-12-16 17:25:00\n",
              "2               5.374                 0.498  ...           17.0 2006-12-16 17:26:00\n",
              "3               5.388                 0.502  ...           17.0 2006-12-16 17:27:00\n",
              "4               3.666                 0.528  ...           17.0 2006-12-16 17:28:00\n",
              "\n",
              "[5 rows x 8 columns]"
            ]
          },
          "metadata": {},
          "execution_count": 47
        }
      ]
    },
    {
      "cell_type": "code",
      "metadata": {
        "id": "4JR00dvMYMij"
      },
      "source": [
        "for x in df.select_dtypes('object').columns:\n",
        "    df[x] = pd.to_numeric(df[x], errors='coerce')"
      ],
      "execution_count": 48,
      "outputs": []
    },
    {
      "cell_type": "code",
      "metadata": {
        "colab": {
          "base_uri": "https://localhost:8080/"
        },
        "id": "KY5mUuSKYTdL",
        "outputId": "0c2c3254-c4dd-4325-d335-b7b56d376a58"
      },
      "source": [
        "df.dtypes"
      ],
      "execution_count": 49,
      "outputs": [
        {
          "output_type": "execute_result",
          "data": {
            "text/plain": [
              "Global_active_power             float64\n",
              "Global_reactive_power           float64\n",
              "Voltage                         float64\n",
              "Global_intensity                float64\n",
              "Sub_metering_1                  float64\n",
              "Sub_metering_2                  float64\n",
              "Sub_metering_3                  float64\n",
              "DateTime                 datetime64[ns]\n",
              "dtype: object"
            ]
          },
          "metadata": {},
          "execution_count": 49
        }
      ]
    },
    {
      "cell_type": "code",
      "metadata": {
        "colab": {
          "base_uri": "https://localhost:8080/"
        },
        "id": "g7s-B5c-9Ers",
        "outputId": "45ead2a0-c1b8-4946-ab7a-8c4ad7021598"
      },
      "source": [
        "df.isnull().sum()"
      ],
      "execution_count": 50,
      "outputs": [
        {
          "output_type": "execute_result",
          "data": {
            "text/plain": [
              "Global_active_power      25979\n",
              "Global_reactive_power    25979\n",
              "Voltage                  25979\n",
              "Global_intensity         25979\n",
              "Sub_metering_1           25979\n",
              "Sub_metering_2           25979\n",
              "Sub_metering_3           25979\n",
              "DateTime                     0\n",
              "dtype: int64"
            ]
          },
          "metadata": {},
          "execution_count": 50
        }
      ]
    },
    {
      "cell_type": "code",
      "metadata": {
        "id": "5P-NsMhvBLZd"
      },
      "source": [
        "df1 = df.copy()"
      ],
      "execution_count": 59,
      "outputs": []
    },
    {
      "cell_type": "code",
      "metadata": {
        "id": "n8gCOkSXKfsb"
      },
      "source": [
        "df1 = df1.apply(lambda x: x.fillna(x.mean()),axis=0)"
      ],
      "execution_count": 62,
      "outputs": []
    },
    {
      "cell_type": "code",
      "metadata": {
        "colab": {
          "base_uri": "https://localhost:8080/"
        },
        "id": "t6F_VcH29M-h",
        "outputId": "dff4055b-99c5-40e5-be22-8feb135829c8"
      },
      "source": [
        "df1.isnull().sum()"
      ],
      "execution_count": 63,
      "outputs": [
        {
          "output_type": "execute_result",
          "data": {
            "text/plain": [
              "Global_active_power      0\n",
              "Global_reactive_power    0\n",
              "Voltage                  0\n",
              "Global_intensity         0\n",
              "Sub_metering_1           0\n",
              "Sub_metering_2           0\n",
              "Sub_metering_3           0\n",
              "DateTime                 0\n",
              "dtype: int64"
            ]
          },
          "metadata": {},
          "execution_count": 63
        }
      ]
    },
    {
      "cell_type": "code",
      "metadata": {
        "colab": {
          "base_uri": "https://localhost:8080/",
          "height": 450
        },
        "id": "QtaOd3tza6zP",
        "outputId": "8906c8ec-db78-4482-8ece-62967484dd30"
      },
      "source": [
        "df_daily = df1.resample('D', on='DateTime').sum()\n",
        "df_daily"
      ],
      "execution_count": 64,
      "outputs": [
        {
          "output_type": "execute_result",
          "data": {
            "text/html": [
              "<div>\n",
              "<style scoped>\n",
              "    .dataframe tbody tr th:only-of-type {\n",
              "        vertical-align: middle;\n",
              "    }\n",
              "\n",
              "    .dataframe tbody tr th {\n",
              "        vertical-align: top;\n",
              "    }\n",
              "\n",
              "    .dataframe thead th {\n",
              "        text-align: right;\n",
              "    }\n",
              "</style>\n",
              "<table border=\"1\" class=\"dataframe\">\n",
              "  <thead>\n",
              "    <tr style=\"text-align: right;\">\n",
              "      <th></th>\n",
              "      <th>Global_active_power</th>\n",
              "      <th>Global_reactive_power</th>\n",
              "      <th>Voltage</th>\n",
              "      <th>Global_intensity</th>\n",
              "      <th>Sub_metering_1</th>\n",
              "      <th>Sub_metering_2</th>\n",
              "      <th>Sub_metering_3</th>\n",
              "    </tr>\n",
              "    <tr>\n",
              "      <th>DateTime</th>\n",
              "      <th></th>\n",
              "      <th></th>\n",
              "      <th></th>\n",
              "      <th></th>\n",
              "      <th></th>\n",
              "      <th></th>\n",
              "      <th></th>\n",
              "    </tr>\n",
              "  </thead>\n",
              "  <tbody>\n",
              "    <tr>\n",
              "      <th>2006-12-16</th>\n",
              "      <td>1209.176</td>\n",
              "      <td>34.922</td>\n",
              "      <td>93552.53</td>\n",
              "      <td>5180.8</td>\n",
              "      <td>0.0</td>\n",
              "      <td>546.0</td>\n",
              "      <td>4926.0</td>\n",
              "    </tr>\n",
              "    <tr>\n",
              "      <th>2006-12-17</th>\n",
              "      <td>3390.460</td>\n",
              "      <td>226.006</td>\n",
              "      <td>345725.32</td>\n",
              "      <td>14398.6</td>\n",
              "      <td>2033.0</td>\n",
              "      <td>4187.0</td>\n",
              "      <td>13341.0</td>\n",
              "    </tr>\n",
              "    <tr>\n",
              "      <th>2006-12-18</th>\n",
              "      <td>2203.826</td>\n",
              "      <td>161.792</td>\n",
              "      <td>347373.64</td>\n",
              "      <td>9247.2</td>\n",
              "      <td>1063.0</td>\n",
              "      <td>2621.0</td>\n",
              "      <td>14018.0</td>\n",
              "    </tr>\n",
              "    <tr>\n",
              "      <th>2006-12-19</th>\n",
              "      <td>1666.194</td>\n",
              "      <td>150.942</td>\n",
              "      <td>348479.01</td>\n",
              "      <td>7094.0</td>\n",
              "      <td>839.0</td>\n",
              "      <td>7602.0</td>\n",
              "      <td>6197.0</td>\n",
              "    </tr>\n",
              "    <tr>\n",
              "      <th>2006-12-20</th>\n",
              "      <td>2225.748</td>\n",
              "      <td>160.998</td>\n",
              "      <td>348923.61</td>\n",
              "      <td>9313.0</td>\n",
              "      <td>0.0</td>\n",
              "      <td>2648.0</td>\n",
              "      <td>14063.0</td>\n",
              "    </tr>\n",
              "    <tr>\n",
              "      <th>...</th>\n",
              "      <td>...</td>\n",
              "      <td>...</td>\n",
              "      <td>...</td>\n",
              "      <td>...</td>\n",
              "      <td>...</td>\n",
              "      <td>...</td>\n",
              "      <td>...</td>\n",
              "    </tr>\n",
              "    <tr>\n",
              "      <th>2010-12-07</th>\n",
              "      <td>1109.574</td>\n",
              "      <td>285.912</td>\n",
              "      <td>345914.85</td>\n",
              "      <td>4892.0</td>\n",
              "      <td>1724.0</td>\n",
              "      <td>646.0</td>\n",
              "      <td>6444.0</td>\n",
              "    </tr>\n",
              "    <tr>\n",
              "      <th>2010-12-08</th>\n",
              "      <td>529.698</td>\n",
              "      <td>169.098</td>\n",
              "      <td>346744.70</td>\n",
              "      <td>2338.2</td>\n",
              "      <td>0.0</td>\n",
              "      <td>514.0</td>\n",
              "      <td>3982.0</td>\n",
              "    </tr>\n",
              "    <tr>\n",
              "      <th>2010-12-09</th>\n",
              "      <td>1612.092</td>\n",
              "      <td>201.358</td>\n",
              "      <td>347932.40</td>\n",
              "      <td>6848.2</td>\n",
              "      <td>1805.0</td>\n",
              "      <td>2080.0</td>\n",
              "      <td>8891.0</td>\n",
              "    </tr>\n",
              "    <tr>\n",
              "      <th>2010-12-10</th>\n",
              "      <td>1579.692</td>\n",
              "      <td>170.268</td>\n",
              "      <td>345975.37</td>\n",
              "      <td>6741.2</td>\n",
              "      <td>1104.0</td>\n",
              "      <td>780.0</td>\n",
              "      <td>9812.0</td>\n",
              "    </tr>\n",
              "    <tr>\n",
              "      <th>2010-12-11</th>\n",
              "      <td>1836.822</td>\n",
              "      <td>151.144</td>\n",
              "      <td>343926.57</td>\n",
              "      <td>7826.2</td>\n",
              "      <td>2054.0</td>\n",
              "      <td>489.0</td>\n",
              "      <td>10308.0</td>\n",
              "    </tr>\n",
              "  </tbody>\n",
              "</table>\n",
              "<p>1457 rows × 7 columns</p>\n",
              "</div>"
            ],
            "text/plain": [
              "            Global_active_power  ...  Sub_metering_3\n",
              "DateTime                         ...                \n",
              "2006-12-16             1209.176  ...          4926.0\n",
              "2006-12-17             3390.460  ...         13341.0\n",
              "2006-12-18             2203.826  ...         14018.0\n",
              "2006-12-19             1666.194  ...          6197.0\n",
              "2006-12-20             2225.748  ...         14063.0\n",
              "...                         ...  ...             ...\n",
              "2010-12-07             1109.574  ...          6444.0\n",
              "2010-12-08              529.698  ...          3982.0\n",
              "2010-12-09             1612.092  ...          8891.0\n",
              "2010-12-10             1579.692  ...          9812.0\n",
              "2010-12-11             1836.822  ...         10308.0\n",
              "\n",
              "[1457 rows x 7 columns]"
            ]
          },
          "metadata": {},
          "execution_count": 64
        }
      ]
    },
    {
      "cell_type": "code",
      "metadata": {
        "colab": {
          "base_uri": "https://localhost:8080/",
          "height": 283
        },
        "id": "-25oI9S_-cDv",
        "outputId": "4cc45cff-72c2-4d99-8fa0-caded56b2945"
      },
      "source": [
        "import matplotlib.pyplot as plt\n",
        "%matplotlib inline\n",
        "plt.plot(df_daily.index, df_daily.Global_active_power)\n",
        "plt.xlabel('dt')\n",
        "plt.show()"
      ],
      "execution_count": 65,
      "outputs": [
        {
          "output_type": "display_data",
          "data": {
            "image/png": "[encoded data removed]",
            "text/plain": [
              "<Figure size 432x288 with 1 Axes>"
            ]
          },
          "metadata": {
            "needs_background": "light"
          }
        }
      ]
    },
    {
      "cell_type": "code",
      "metadata": {
        "colab": {
          "base_uri": "https://localhost:8080/"
        },
        "id": "TGLZFzq8bXci",
        "outputId": "1e70fc52-1570-4873-b6e1-8c4235774adb"
      },
      "source": [
        "from scipy.stats import pearsonr\n",
        "corr, _ = pearsonr(df1['Global_active_power'], df1['Global_reactive_power'])\n",
        "print('Pearsons correlation: %.2f' % corr)"
      ],
      "execution_count": 66,
      "outputs": [
        {
          "output_type": "stream",
          "name": "stdout",
          "text": [
            "Pearsons correlation: 0.25\n"
          ]
        }
      ]
    },
    {
      "cell_type": "code",
      "metadata": {
        "colab": {
          "base_uri": "https://localhost:8080/"
        },
        "id": "INgxAca2FjiD",
        "outputId": "1aad620d-0aec-443f-9a7a-88a5fde488f2"
      },
      "source": [
        "from scipy.stats import pearsonr\n",
        "corr, _ = pearsonr(df1['Voltage'], df1['Global_intensity'])\n",
        "print('Pearsons correlation: %.2f' % corr)"
      ],
      "execution_count": 67,
      "outputs": [
        {
          "output_type": "stream",
          "name": "stdout",
          "text": [
            "Pearsons correlation: -0.41\n"
          ]
        }
      ]
    },
    {
      "cell_type": "code",
      "metadata": {
        "id": "fDbNCaO0BqI8"
      },
      "source": [
        "x = len(df_daily)"
      ],
      "execution_count": 70,
      "outputs": []
    },
    {
      "cell_type": "code",
      "metadata": {
        "id": "h8hZIBO8MuoZ"
      },
      "source": [
        "df_daily1 = df_daily.reset_index()\n",
        "df_daily1 = df_daily1[['DateTime','Global_active_power']]\n",
        "df_daily1 = df_daily1.rename(columns={'DateTime': 'ds', 'Global_active_power': 'y'})\n",
        "X = df_daily1[['ds', 'y']]\n",
        "y = df_daily1['y']"
      ],
      "execution_count": 99,
      "outputs": []
    },
    {
      "cell_type": "code",
      "metadata": {
        "id": "pzu1S_4OC6QF"
      },
      "source": [
        "x_train, x_test = X[:(x-365)], X[(x-365):]\n",
        "y_train, y_test = y[:(x-365)], y[(x-365):]"
      ],
      "execution_count": 100,
      "outputs": []
    },
    {
      "cell_type": "code",
      "metadata": {
        "id": "xtO5PKNqecRG"
      },
      "source": [
        "from fbprophet import Prophet"
      ],
      "execution_count": 96,
      "outputs": []
    },
    {
      "cell_type": "code",
      "metadata": {
        "colab": {
          "base_uri": "https://localhost:8080/",
          "height": 419
        },
        "id": "7QuxFrRqRecp",
        "outputId": "b54a8552-2a2e-49bf-d694-5c0d5cc9ce90"
      },
      "source": [
        "x_train"
      ],
      "execution_count": 101,
      "outputs": [
        {
          "output_type": "execute_result",
          "data": {
            "text/html": [
              "<div>\n",
              "<style scoped>\n",
              "    .dataframe tbody tr th:only-of-type {\n",
              "        vertical-align: middle;\n",
              "    }\n",
              "\n",
              "    .dataframe tbody tr th {\n",
              "        vertical-align: top;\n",
              "    }\n",
              "\n",
              "    .dataframe thead th {\n",
              "        text-align: right;\n",
              "    }\n",
              "</style>\n",
              "<table border=\"1\" class=\"dataframe\">\n",
              "  <thead>\n",
              "    <tr style=\"text-align: right;\">\n",
              "      <th></th>\n",
              "      <th>ds</th>\n",
              "      <th>y</th>\n",
              "    </tr>\n",
              "  </thead>\n",
              "  <tbody>\n",
              "    <tr>\n",
              "      <th>0</th>\n",
              "      <td>2006-12-16</td>\n",
              "      <td>1209.176</td>\n",
              "    </tr>\n",
              "    <tr>\n",
              "      <th>1</th>\n",
              "      <td>2006-12-17</td>\n",
              "      <td>3390.460</td>\n",
              "    </tr>\n",
              "    <tr>\n",
              "      <th>2</th>\n",
              "      <td>2006-12-18</td>\n",
              "      <td>2203.826</td>\n",
              "    </tr>\n",
              "    <tr>\n",
              "      <th>3</th>\n",
              "      <td>2006-12-19</td>\n",
              "      <td>1666.194</td>\n",
              "    </tr>\n",
              "    <tr>\n",
              "      <th>4</th>\n",
              "      <td>2006-12-20</td>\n",
              "      <td>2225.748</td>\n",
              "    </tr>\n",
              "    <tr>\n",
              "      <th>...</th>\n",
              "      <td>...</td>\n",
              "      <td>...</td>\n",
              "    </tr>\n",
              "    <tr>\n",
              "      <th>1087</th>\n",
              "      <td>2009-12-07</td>\n",
              "      <td>513.478</td>\n",
              "    </tr>\n",
              "    <tr>\n",
              "      <th>1088</th>\n",
              "      <td>2009-12-08</td>\n",
              "      <td>824.436</td>\n",
              "    </tr>\n",
              "    <tr>\n",
              "      <th>1089</th>\n",
              "      <td>2009-12-09</td>\n",
              "      <td>2064.358</td>\n",
              "    </tr>\n",
              "    <tr>\n",
              "      <th>1090</th>\n",
              "      <td>2009-12-10</td>\n",
              "      <td>1351.604</td>\n",
              "    </tr>\n",
              "    <tr>\n",
              "      <th>1091</th>\n",
              "      <td>2009-12-11</td>\n",
              "      <td>1463.066</td>\n",
              "    </tr>\n",
              "  </tbody>\n",
              "</table>\n",
              "<p>1092 rows × 2 columns</p>\n",
              "</div>"
            ],
            "text/plain": [
              "             ds         y\n",
              "0    2006-12-16  1209.176\n",
              "1    2006-12-17  3390.460\n",
              "2    2006-12-18  2203.826\n",
              "3    2006-12-19  1666.194\n",
              "4    2006-12-20  2225.748\n",
              "...         ...       ...\n",
              "1087 2009-12-07   513.478\n",
              "1088 2009-12-08   824.436\n",
              "1089 2009-12-09  2064.358\n",
              "1090 2009-12-10  1351.604\n",
              "1091 2009-12-11  1463.066\n",
              "\n",
              "[1092 rows x 2 columns]"
            ]
          },
          "metadata": {},
          "execution_count": 101
        }
      ]
    },
    {
      "cell_type": "code",
      "metadata": {
        "colab": {
          "base_uri": "https://localhost:8080/"
        },
        "id": "kbjxfCHzOdeK",
        "outputId": "2d993f9a-04e4-4254-b37a-a2be968196cc"
      },
      "source": [
        "model = Prophet()\n",
        "model.fit(x_train)"
      ],
      "execution_count": 102,
      "outputs": [
        {
          "output_type": "stream",
          "name": "stderr",
          "text": [
            "INFO:fbprophet:Disabling daily seasonality. Run prophet with daily_seasonality=True to override this.\n"
          ]
        },
        {
          "output_type": "execute_result",
          "data": {
            "text/plain": [
              "<fbprophet.forecaster.Prophet at 0x7f09bd791a90>"
            ]
          },
          "metadata": {},
          "execution_count": 102
        }
      ]
    },
    {
      "cell_type": "code",
      "metadata": {
        "colab": {
          "base_uri": "https://localhost:8080/",
          "height": 309
        },
        "id": "K8c9HE8NRtTn",
        "outputId": "ce18d1c6-34dd-4b65-d4f8-2f39786d8b4c"
      },
      "source": [
        "#predict for the next 365 days\n",
        "future = model.make_future_dataframe(periods=365, freq='D') \n",
        "forecast = model.predict(future) \n",
        "forecast.head()"
      ],
      "execution_count": 133,
      "outputs": [
        {
          "output_type": "execute_result",
          "data": {
            "text/html": [
              "<div>\n",
              "<style scoped>\n",
              "    .dataframe tbody tr th:only-of-type {\n",
              "        vertical-align: middle;\n",
              "    }\n",
              "\n",
              "    .dataframe tbody tr th {\n",
              "        vertical-align: top;\n",
              "    }\n",
              "\n",
              "    .dataframe thead th {\n",
              "        text-align: right;\n",
              "    }\n",
              "</style>\n",
              "<table border=\"1\" class=\"dataframe\">\n",
              "  <thead>\n",
              "    <tr style=\"text-align: right;\">\n",
              "      <th></th>\n",
              "      <th>ds</th>\n",
              "      <th>trend</th>\n",
              "      <th>yhat_lower</th>\n",
              "      <th>yhat_upper</th>\n",
              "      <th>trend_lower</th>\n",
              "      <th>trend_upper</th>\n",
              "      <th>additive_terms</th>\n",
              "      <th>additive_terms_lower</th>\n",
              "      <th>additive_terms_upper</th>\n",
              "      <th>weekly</th>\n",
              "      <th>weekly_lower</th>\n",
              "      <th>weekly_upper</th>\n",
              "      <th>yearly</th>\n",
              "      <th>yearly_lower</th>\n",
              "      <th>yearly_upper</th>\n",
              "      <th>multiplicative_terms</th>\n",
              "      <th>multiplicative_terms_lower</th>\n",
              "      <th>multiplicative_terms_upper</th>\n",
              "      <th>yhat</th>\n",
              "    </tr>\n",
              "  </thead>\n",
              "  <tbody>\n",
              "    <tr>\n",
              "      <th>0</th>\n",
              "      <td>2006-12-16</td>\n",
              "      <td>1653.142974</td>\n",
              "      <td>1424.787999</td>\n",
              "      <td>2830.144386</td>\n",
              "      <td>1653.142974</td>\n",
              "      <td>1653.142974</td>\n",
              "      <td>493.014390</td>\n",
              "      <td>493.014390</td>\n",
              "      <td>493.014390</td>\n",
              "      <td>149.612993</td>\n",
              "      <td>149.612993</td>\n",
              "      <td>149.612993</td>\n",
              "      <td>343.401397</td>\n",
              "      <td>343.401397</td>\n",
              "      <td>343.401397</td>\n",
              "      <td>0.0</td>\n",
              "      <td>0.0</td>\n",
              "      <td>0.0</td>\n",
              "      <td>2146.157364</td>\n",
              "    </tr>\n",
              "    <tr>\n",
              "      <th>1</th>\n",
              "      <td>2006-12-17</td>\n",
              "      <td>1652.973661</td>\n",
              "      <td>1403.183818</td>\n",
              "      <td>2878.336529</td>\n",
              "      <td>1652.973661</td>\n",
              "      <td>1652.973661</td>\n",
              "      <td>496.553781</td>\n",
              "      <td>496.553781</td>\n",
              "      <td>496.553781</td>\n",
              "      <td>138.202356</td>\n",
              "      <td>138.202356</td>\n",
              "      <td>138.202356</td>\n",
              "      <td>358.351424</td>\n",
              "      <td>358.351424</td>\n",
              "      <td>358.351424</td>\n",
              "      <td>0.0</td>\n",
              "      <td>0.0</td>\n",
              "      <td>0.0</td>\n",
              "      <td>2149.527442</td>\n",
              "    </tr>\n",
              "    <tr>\n",
              "      <th>2</th>\n",
              "      <td>2006-12-18</td>\n",
              "      <td>1652.804348</td>\n",
              "      <td>1183.532849</td>\n",
              "      <td>2630.719633</td>\n",
              "      <td>1652.804348</td>\n",
              "      <td>1652.804348</td>\n",
              "      <td>272.615057</td>\n",
              "      <td>272.615057</td>\n",
              "      <td>272.615057</td>\n",
              "      <td>-101.328105</td>\n",
              "      <td>-101.328105</td>\n",
              "      <td>-101.328105</td>\n",
              "      <td>373.943162</td>\n",
              "      <td>373.943162</td>\n",
              "      <td>373.943162</td>\n",
              "      <td>0.0</td>\n",
              "      <td>0.0</td>\n",
              "      <td>0.0</td>\n",
              "      <td>1925.419405</td>\n",
              "    </tr>\n",
              "    <tr>\n",
              "      <th>3</th>\n",
              "      <td>2006-12-19</td>\n",
              "      <td>1652.635035</td>\n",
              "      <td>1343.950498</td>\n",
              "      <td>2726.930908</td>\n",
              "      <td>1652.635035</td>\n",
              "      <td>1652.635035</td>\n",
              "      <td>391.464511</td>\n",
              "      <td>391.464511</td>\n",
              "      <td>391.464511</td>\n",
              "      <td>1.644292</td>\n",
              "      <td>1.644292</td>\n",
              "      <td>1.644292</td>\n",
              "      <td>389.820219</td>\n",
              "      <td>389.820219</td>\n",
              "      <td>389.820219</td>\n",
              "      <td>0.0</td>\n",
              "      <td>0.0</td>\n",
              "      <td>0.0</td>\n",
              "      <td>2044.099546</td>\n",
              "    </tr>\n",
              "    <tr>\n",
              "      <th>4</th>\n",
              "      <td>2006-12-20</td>\n",
              "      <td>1652.465721</td>\n",
              "      <td>1322.246607</td>\n",
              "      <td>2672.862057</td>\n",
              "      <td>1652.465721</td>\n",
              "      <td>1652.465721</td>\n",
              "      <td>368.478496</td>\n",
              "      <td>368.478496</td>\n",
              "      <td>368.478496</td>\n",
              "      <td>-37.132607</td>\n",
              "      <td>-37.132607</td>\n",
              "      <td>-37.132607</td>\n",
              "      <td>405.611103</td>\n",
              "      <td>405.611103</td>\n",
              "      <td>405.611103</td>\n",
              "      <td>0.0</td>\n",
              "      <td>0.0</td>\n",
              "      <td>0.0</td>\n",
              "      <td>2020.944217</td>\n",
              "    </tr>\n",
              "  </tbody>\n",
              "</table>\n",
              "</div>"
            ],
            "text/plain": [
              "          ds        trend  ...  multiplicative_terms_upper         yhat\n",
              "0 2006-12-16  1653.142974  ...                         0.0  2146.157364\n",
              "1 2006-12-17  1652.973661  ...                         0.0  2149.527442\n",
              "2 2006-12-18  1652.804348  ...                         0.0  1925.419405\n",
              "3 2006-12-19  1652.635035  ...                         0.0  2044.099546\n",
              "4 2006-12-20  1652.465721  ...                         0.0  2020.944217\n",
              "\n",
              "[5 rows x 19 columns]"
            ]
          },
          "metadata": {},
          "execution_count": 133
        }
      ]
    },
    {
      "cell_type": "code",
      "metadata": {
        "colab": {
          "base_uri": "https://localhost:8080/",
          "height": 419
        },
        "id": "Lj-HUPTkSege",
        "outputId": "76e70356-530f-47a2-b8b2-ab9aab1e896b"
      },
      "source": [
        "forecast[['ds', 'yhat', 'yhat_lower', 'yhat_upper', 'trend', 'trend_lower', 'trend_upper']]"
      ],
      "execution_count": 134,
      "outputs": [
        {
          "output_type": "execute_result",
          "data": {
            "text/html": [
              "<div>\n",
              "<style scoped>\n",
              "    .dataframe tbody tr th:only-of-type {\n",
              "        vertical-align: middle;\n",
              "    }\n",
              "\n",
              "    .dataframe tbody tr th {\n",
              "        vertical-align: top;\n",
              "    }\n",
              "\n",
              "    .dataframe thead th {\n",
              "        text-align: right;\n",
              "    }\n",
              "</style>\n",
              "<table border=\"1\" class=\"dataframe\">\n",
              "  <thead>\n",
              "    <tr style=\"text-align: right;\">\n",
              "      <th></th>\n",
              "      <th>ds</th>\n",
              "      <th>yhat</th>\n",
              "      <th>yhat_lower</th>\n",
              "      <th>yhat_upper</th>\n",
              "      <th>trend</th>\n",
              "      <th>trend_lower</th>\n",
              "      <th>trend_upper</th>\n",
              "    </tr>\n",
              "  </thead>\n",
              "  <tbody>\n",
              "    <tr>\n",
              "      <th>0</th>\n",
              "      <td>2006-12-16</td>\n",
              "      <td>2146.157364</td>\n",
              "      <td>1424.787999</td>\n",
              "      <td>2830.144386</td>\n",
              "      <td>1653.142974</td>\n",
              "      <td>1653.142974</td>\n",
              "      <td>1653.142974</td>\n",
              "    </tr>\n",
              "    <tr>\n",
              "      <th>1</th>\n",
              "      <td>2006-12-17</td>\n",
              "      <td>2149.527442</td>\n",
              "      <td>1403.183818</td>\n",
              "      <td>2878.336529</td>\n",
              "      <td>1652.973661</td>\n",
              "      <td>1652.973661</td>\n",
              "      <td>1652.973661</td>\n",
              "    </tr>\n",
              "    <tr>\n",
              "      <th>2</th>\n",
              "      <td>2006-12-18</td>\n",
              "      <td>1925.419405</td>\n",
              "      <td>1183.532849</td>\n",
              "      <td>2630.719633</td>\n",
              "      <td>1652.804348</td>\n",
              "      <td>1652.804348</td>\n",
              "      <td>1652.804348</td>\n",
              "    </tr>\n",
              "    <tr>\n",
              "      <th>3</th>\n",
              "      <td>2006-12-19</td>\n",
              "      <td>2044.099546</td>\n",
              "      <td>1343.950498</td>\n",
              "      <td>2726.930908</td>\n",
              "      <td>1652.635035</td>\n",
              "      <td>1652.635035</td>\n",
              "      <td>1652.635035</td>\n",
              "    </tr>\n",
              "    <tr>\n",
              "      <th>4</th>\n",
              "      <td>2006-12-20</td>\n",
              "      <td>2020.944217</td>\n",
              "      <td>1322.246607</td>\n",
              "      <td>2672.862057</td>\n",
              "      <td>1652.465721</td>\n",
              "      <td>1652.465721</td>\n",
              "      <td>1652.465721</td>\n",
              "    </tr>\n",
              "    <tr>\n",
              "      <th>...</th>\n",
              "      <td>...</td>\n",
              "      <td>...</td>\n",
              "      <td>...</td>\n",
              "      <td>...</td>\n",
              "      <td>...</td>\n",
              "      <td>...</td>\n",
              "      <td>...</td>\n",
              "    </tr>\n",
              "    <tr>\n",
              "      <th>1452</th>\n",
              "      <td>2010-12-07</td>\n",
              "      <td>1795.612299</td>\n",
              "      <td>1112.861390</td>\n",
              "      <td>2519.119983</td>\n",
              "      <td>1515.879263</td>\n",
              "      <td>1511.015775</td>\n",
              "      <td>1521.362655</td>\n",
              "    </tr>\n",
              "    <tr>\n",
              "      <th>1453</th>\n",
              "      <td>2010-12-08</td>\n",
              "      <td>1756.478071</td>\n",
              "      <td>979.229381</td>\n",
              "      <td>2447.354755</td>\n",
              "      <td>1515.831670</td>\n",
              "      <td>1510.942981</td>\n",
              "      <td>1521.341796</td>\n",
              "    </tr>\n",
              "    <tr>\n",
              "      <th>1454</th>\n",
              "      <td>2010-12-09</td>\n",
              "      <td>1682.349028</td>\n",
              "      <td>988.421627</td>\n",
              "      <td>2448.314283</td>\n",
              "      <td>1515.784076</td>\n",
              "      <td>1510.871878</td>\n",
              "      <td>1521.303163</td>\n",
              "    </tr>\n",
              "    <tr>\n",
              "      <th>1455</th>\n",
              "      <td>2010-12-10</td>\n",
              "      <td>1760.480986</td>\n",
              "      <td>1040.865487</td>\n",
              "      <td>2463.970933</td>\n",
              "      <td>1515.736482</td>\n",
              "      <td>1510.786726</td>\n",
              "      <td>1521.275276</td>\n",
              "    </tr>\n",
              "    <tr>\n",
              "      <th>1456</th>\n",
              "      <td>2010-12-11</td>\n",
              "      <td>1953.828050</td>\n",
              "      <td>1251.719161</td>\n",
              "      <td>2678.849371</td>\n",
              "      <td>1515.688888</td>\n",
              "      <td>1510.712865</td>\n",
              "      <td>1521.259121</td>\n",
              "    </tr>\n",
              "  </tbody>\n",
              "</table>\n",
              "<p>1457 rows × 7 columns</p>\n",
              "</div>"
            ],
            "text/plain": [
              "             ds         yhat  ...  trend_lower  trend_upper\n",
              "0    2006-12-16  2146.157364  ...  1653.142974  1653.142974\n",
              "1    2006-12-17  2149.527442  ...  1652.973661  1652.973661\n",
              "2    2006-12-18  1925.419405  ...  1652.804348  1652.804348\n",
              "3    2006-12-19  2044.099546  ...  1652.635035  1652.635035\n",
              "4    2006-12-20  2020.944217  ...  1652.465721  1652.465721\n",
              "...         ...          ...  ...          ...          ...\n",
              "1452 2010-12-07  1795.612299  ...  1511.015775  1521.362655\n",
              "1453 2010-12-08  1756.478071  ...  1510.942981  1521.341796\n",
              "1454 2010-12-09  1682.349028  ...  1510.871878  1521.303163\n",
              "1455 2010-12-10  1760.480986  ...  1510.786726  1521.275276\n",
              "1456 2010-12-11  1953.828050  ...  1510.712865  1521.259121\n",
              "\n",
              "[1457 rows x 7 columns]"
            ]
          },
          "metadata": {},
          "execution_count": 134
        }
      ]
    },
    {
      "cell_type": "code",
      "metadata": {
        "id": "eQMxO_pzSsfm"
      },
      "source": [
        "import numpy as np\n",
        "\n",
        "def mape(actual, pred): \n",
        "    actual, pred = np.array(actual), np.array(pred)\n",
        "    return np.mean(np.abs((actual - pred) / actual)) * 100"
      ],
      "execution_count": 135,
      "outputs": []
    },
    {
      "cell_type": "code",
      "metadata": {
        "colab": {
          "base_uri": "https://localhost:8080/"
        },
        "id": "7Pk9mHSxTtQ8",
        "outputId": "25d9aa20-09a0-44d8-8dad-c386f8c34a0b"
      },
      "source": [
        "actual = y_test\n",
        "pred = forecast['yhat'][x-365:]\n",
        "\n",
        "mape(actual, pred)"
      ],
      "execution_count": 139,
      "outputs": [
        {
          "output_type": "stream",
          "name": "stderr",
          "text": [
            "/usr/local/lib/python3.7/dist-packages/ipykernel_launcher.py:5: RuntimeWarning:\n",
            "\n",
            "divide by zero encountered in true_divide\n",
            "\n"
          ]
        },
        {
          "output_type": "execute_result",
          "data": {
            "text/plain": [
              "inf"
            ]
          },
          "metadata": {},
          "execution_count": 139
        }
      ]
    },
    {
      "cell_type": "code",
      "metadata": {
        "colab": {
          "base_uri": "https://localhost:8080/"
        },
        "id": "KVJeOjcZamsz",
        "outputId": "f18a9336-67f2-4e40-9047-ad3f5136f9a0"
      },
      "source": [
        "MAE = np.mean(np.abs((actual - pred)))\n",
        "MAE"
      ],
      "execution_count": 141,
      "outputs": [
        {
          "output_type": "execute_result",
          "data": {
            "text/plain": [
              "404.5185227451316"
            ]
          },
          "metadata": {},
          "execution_count": 141
        }
      ]
    },
    {
      "cell_type": "code",
      "metadata": {
        "colab": {
          "base_uri": "https://localhost:8080/"
        },
        "id": "_ZwT-2W5UsZy",
        "outputId": "33d0b7fe-9c23-498b-cd9b-57fd757b1825"
      },
      "source": [
        "actual"
      ],
      "execution_count": 137,
      "outputs": [
        {
          "output_type": "execute_result",
          "data": {
            "text/plain": [
              "1092    1816.380\n",
              "1093    2138.814\n",
              "1094    1794.862\n",
              "1095    1940.116\n",
              "1096    1394.874\n",
              "          ...   \n",
              "1452    1109.574\n",
              "1453     529.698\n",
              "1454    1612.092\n",
              "1455    1579.692\n",
              "1456    1836.822\n",
              "Name: y, Length: 365, dtype: float64"
            ]
          },
          "metadata": {},
          "execution_count": 137
        }
      ]
    },
    {
      "cell_type": "code",
      "metadata": {
        "colab": {
          "base_uri": "https://localhost:8080/"
        },
        "id": "T8s8oXipVBI8",
        "outputId": "122e4d52-9ee7-41f7-999d-d2aa9093073a"
      },
      "source": [
        "pred"
      ],
      "execution_count": 138,
      "outputs": [
        {
          "output_type": "execute_result",
          "data": {
            "text/plain": [
              "0       2146.157364\n",
              "1       2149.527442\n",
              "2       1925.419405\n",
              "3       2044.099546\n",
              "4       2020.944217\n",
              "           ...     \n",
              "1452    1795.612299\n",
              "1453    1756.478071\n",
              "1454    1682.349028\n",
              "1455    1760.480986\n",
              "1456    1953.828050\n",
              "Name: yhat, Length: 1457, dtype: float64"
            ]
          },
          "metadata": {},
          "execution_count": 138
        }
      ]
    },
    {
      "cell_type": "code",
      "metadata": {
        "colab": {
          "base_uri": "https://localhost:8080/"
        },
        "id": "gzvcQHwAVfKw",
        "outputId": "8dcc5f38-386b-4860-fd9c-6464a5511dfe"
      },
      "source": [
        "import sklearn\n",
        "from sklearn.metrics import mean_squared_error\n",
        "import math\n",
        "from math import sqrt\n",
        "\n",
        "actual = y_test\n",
        "predicted = forecast['yhat'][x-365:]\n",
        "\n",
        "mse = sklearn.metrics.mean_squared_error(actual, predicted)\n",
        "\n",
        "rmse = math.sqrt(mse)\n",
        "\n",
        "print(rmse)"
      ],
      "execution_count": 143,
      "outputs": [
        {
          "output_type": "stream",
          "name": "stdout",
          "text": [
            "562.4441177638498\n"
          ]
        }
      ]
    },
    {
      "cell_type": "code",
      "metadata": {
        "colab": {
          "base_uri": "https://localhost:8080/",
          "height": 441
        },
        "id": "Nx6ABm-acPzS",
        "outputId": "7d87b9b2-a5d2-4174-88ac-04d39d2cf1d9"
      },
      "source": [
        "model.plot(forecast)\n",
        "plt.show()"
      ],
      "execution_count": 145,
      "outputs": [
        {
          "output_type": "display_data",
          "data": {
            "image/png": "[encoded data removed]",
            "text/plain": [
              "<Figure size 720x432 with 1 Axes>"
            ]
          },
          "metadata": {}
        }
      ]
    },
    {
      "cell_type": "code",
      "metadata": {
        "id": "xBZlzf8icklW"
      },
      "source": [
        ""
      ],
      "execution_count": null,
      "outputs": []
    }
  ]
}